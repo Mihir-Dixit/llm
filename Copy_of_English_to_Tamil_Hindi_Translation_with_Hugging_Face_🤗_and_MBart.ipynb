{
  "nbformat": 4,
  "nbformat_minor": 0,
  "metadata": {
    "colab": {
      "provenance": [],
      "include_colab_link": true
    },
    "kernelspec": {
      "name": "python3",
      "display_name": "Python 3"
    }
  },
  "cells": [
    {
      "cell_type": "markdown",
      "metadata": {
        "id": "view-in-github",
        "colab_type": "text"
      },
      "source": [
        "<a href=\"https://colab.research.google.com/github/Mihir-Dixit/llm/blob/main/Copy_of_English_to_Tamil_Hindi_Translation_with_Hugging_Face_%F0%9F%A4%97_and_MBart.ipynb\" target=\"_parent\"><img src=\"https://colab.research.google.com/assets/colab-badge.svg\" alt=\"Open In Colab\"/></a>"
      ]
    },
    {
      "cell_type": "markdown",
      "source": [
        "# ***Installed Packages***\n",
        "\n",
        "\n",
        "\n",
        "\n",
        "\n",
        "\n",
        "\n",
        "\n",
        "\n"
      ],
      "metadata": {
        "id": "ZDOedKriUXwz"
      }
    },
    {
      "cell_type": "code",
      "metadata": {
        "id": "yR0_MKOOeRNO",
        "colab": {
          "base_uri": "https://localhost:8080/"
        },
        "outputId": "bcb55fa4-9dc1-452a-fc5a-bcd6659d7dae"
      },
      "source": [
        "!pip install transformers -U -q\n",
        "!pip install virtualenv\n",
        "!virtualenv myenv\n",
        "!source myenv/bin/activate\n",
        "!pip install --upgrade pip\n",
        "!pip install protobuf\n",
        "!pip install sentencepiece"
      ],
      "execution_count": null,
      "outputs": [
        {
          "output_type": "stream",
          "name": "stdout",
          "text": [
            "Requirement already satisfied: virtualenv in /usr/local/lib/python3.10/dist-packages (20.25.1)\n",
            "Requirement already satisfied: distlib<1,>=0.3.7 in /usr/local/lib/python3.10/dist-packages (from virtualenv) (0.3.8)\n",
            "Requirement already satisfied: filelock<4,>=3.12.2 in /usr/local/lib/python3.10/dist-packages (from virtualenv) (3.13.1)\n",
            "Requirement already satisfied: platformdirs<5,>=3.9.1 in /usr/local/lib/python3.10/dist-packages (from virtualenv) (4.2.0)\n",
            "created virtual environment CPython3.10.12.final.0-64 in 1247ms\n",
            "  creator CPython3Posix(dest=/content/myenv, clear=False, no_vcs_ignore=False, global=False)\n",
            "  seeder FromAppData(download=False, pip=bundle, setuptools=bundle, wheel=bundle, via=copy, app_data_dir=/root/.local/share/virtualenv)\n",
            "    added seed packages: pip==24.0, setuptools==69.1.0, wheel==0.42.0\n",
            "  activators BashActivator,CShellActivator,FishActivator,NushellActivator,PowerShellActivator,PythonActivator\n",
            "Requirement already satisfied: pip in /usr/local/lib/python3.10/dist-packages (23.1.2)\n",
            "Collecting pip\n",
            "  Downloading pip-24.0-py3-none-any.whl (2.1 MB)\n",
            "\u001b[2K     \u001b[90m━━━━━━━━━━━━━━━━━━━━━━━━━━━━━━━━━━━━━━━━\u001b[0m \u001b[32m2.1/2.1 MB\u001b[0m \u001b[31m12.4 MB/s\u001b[0m eta \u001b[36m0:00:00\u001b[0m\n",
            "\u001b[?25hInstalling collected packages: pip\n",
            "  Attempting uninstall: pip\n",
            "    Found existing installation: pip 23.1.2\n",
            "    Uninstalling pip-23.1.2:\n",
            "      Successfully uninstalled pip-23.1.2\n",
            "Successfully installed pip-24.0\n",
            "Requirement already satisfied: protobuf in /usr/local/lib/python3.10/dist-packages (3.20.3)\n",
            "\u001b[33mWARNING: Running pip as the 'root' user can result in broken permissions and conflicting behaviour with the system package manager. It is recommended to use a virtual environment instead: https://pip.pypa.io/warnings/venv\u001b[0m\u001b[33m\n",
            "\u001b[0mRequirement already satisfied: sentencepiece in /usr/local/lib/python3.10/dist-packages (0.1.99)\n",
            "\u001b[33mWARNING: Running pip as the 'root' user can result in broken permissions and conflicting behaviour with the system package manager. It is recommended to use a virtual environment instead: https://pip.pypa.io/warnings/venv\u001b[0m\u001b[33m\n",
            "\u001b[0m"
          ]
        }
      ]
    },
    {
      "cell_type": "code",
      "source": [
        "!pip install git+https://github.com/huggingface/transformers -q"
      ],
      "metadata": {
        "id": "Y7DdYNVkjvHa",
        "outputId": "288fa635-a2e0-4e48-d238-56be8b130598",
        "colab": {
          "base_uri": "https://localhost:8080/"
        }
      },
      "execution_count": null,
      "outputs": [
        {
          "output_type": "stream",
          "name": "stdout",
          "text": [
            "  Installing build dependencies ... \u001b[?25l\u001b[?25hdone\n",
            "  Getting requirements to build wheel ... \u001b[?25l\u001b[?25hdone\n",
            "  Installing backend dependencies ... \u001b[?25l\u001b[?25hdone\n",
            "  Preparing metadata (pyproject.toml) ... \u001b[?25l\u001b[?25hdone\n",
            "  Building wheel for transformers (pyproject.toml) ... \u001b[?25l\u001b[?25hdone\n",
            "\u001b[33mWARNING: Running pip as the 'root' user can result in broken permissions and conflicting behaviour with the system package manager. It is recommended to use a virtual environment instead: https://pip.pypa.io/warnings/venv\u001b[0m\u001b[33m\n",
            "\u001b[0m"
          ]
        }
      ]
    },
    {
      "cell_type": "code",
      "source": [
        "!pip freeze | grep transformers"
      ],
      "metadata": {
        "id": "3o5p_o4Mj43U",
        "outputId": "9499d2b3-9285-46e1-e6d8-4d779c3361c9",
        "colab": {
          "base_uri": "https://localhost:8080/"
        }
      },
      "execution_count": null,
      "outputs": [
        {
          "output_type": "stream",
          "name": "stdout",
          "text": [
            "transformers @ git+https://github.com/huggingface/transformers@c8d98405a8f7b0e5d07391b671dcc61bb9d7bad5\n"
          ]
        }
      ]
    },
    {
      "cell_type": "code",
      "source": [
        "!pip install git+https://github.com/huggingface/transformers@2cc8cf6ce7ae0416561acbb639df4bbc5f409b6f"
      ],
      "metadata": {
        "id": "e72xloLDj61C",
        "outputId": "c8af5928-4fc7-4f16-e35c-abac35415917",
        "colab": {
          "base_uri": "https://localhost:8080/"
        }
      },
      "execution_count": null,
      "outputs": [
        {
          "output_type": "stream",
          "name": "stdout",
          "text": [
            "Collecting git+https://github.com/huggingface/transformers@2cc8cf6ce7ae0416561acbb639df4bbc5f409b6f\n",
            "  Cloning https://github.com/huggingface/transformers (to revision 2cc8cf6ce7ae0416561acbb639df4bbc5f409b6f) to /tmp/pip-req-build-zfpi_4c2\n",
            "  Running command git clone --filter=blob:none --quiet https://github.com/huggingface/transformers /tmp/pip-req-build-zfpi_4c2\n",
            "  Running command git rev-parse -q --verify 'sha^2cc8cf6ce7ae0416561acbb639df4bbc5f409b6f'\n",
            "  Running command git fetch -q https://github.com/huggingface/transformers 2cc8cf6ce7ae0416561acbb639df4bbc5f409b6f\n",
            "  Running command git checkout -q 2cc8cf6ce7ae0416561acbb639df4bbc5f409b6f\n",
            "  Resolved https://github.com/huggingface/transformers to commit 2cc8cf6ce7ae0416561acbb639df4bbc5f409b6f\n",
            "  Installing build dependencies ... \u001b[?25l\u001b[?25hdone\n",
            "  Getting requirements to build wheel ... \u001b[?25l\u001b[?25hdone\n"
          ]
        }
      ]
    },
    {
      "cell_type": "markdown",
      "source": [
        "**Installed INTEL packages**"
      ],
      "metadata": {
        "id": "VWbLennqVEn7"
      }
    },
    {
      "cell_type": "code",
      "source": [
        "!python3 -m pip install intel_extension_for_pytorch"
      ],
      "metadata": {
        "id": "ZVqwb99whpqN",
        "outputId": "19b8677d-33ca-4f78-cf1b-c777d41d56ef",
        "colab": {
          "base_uri": "https://localhost:8080/"
        }
      },
      "execution_count": null,
      "outputs": [
        {
          "output_type": "stream",
          "name": "stdout",
          "text": [
            "Collecting intel_extension_for_pytorch\n",
            "  Downloading intel_extension_for_pytorch-2.2.0-cp310-cp310-manylinux2014_x86_64.whl.metadata (7.0 kB)\n",
            "Requirement already satisfied: psutil in /usr/local/lib/python3.10/dist-packages (from intel_extension_for_pytorch) (5.9.5)\n",
            "Requirement already satisfied: numpy in /usr/local/lib/python3.10/dist-packages (from intel_extension_for_pytorch) (1.25.2)\n",
            "Requirement already satisfied: packaging in /usr/local/lib/python3.10/dist-packages (from intel_extension_for_pytorch) (23.2)\n",
            "Downloading intel_extension_for_pytorch-2.2.0-cp310-cp310-manylinux2014_x86_64.whl (52.7 MB)\n",
            "\u001b[2K   \u001b[90m━━━━━━━━━━━━━━━━━━━━━━━━━━━━━━━━━━━━━━━━\u001b[0m \u001b[32m52.7/52.7 MB\u001b[0m \u001b[31m7.6 MB/s\u001b[0m eta \u001b[36m0:00:00\u001b[0m\n",
            "\u001b[?25hInstalling collected packages: intel_extension_for_pytorch\n",
            "Successfully installed intel_extension_for_pytorch-2.2.0\n",
            "\u001b[33mWARNING: Running pip as the 'root' user can result in broken permissions and conflicting behaviour with the system package manager. It is recommended to use a virtual environment instead: https://pip.pypa.io/warnings/venv\u001b[0m\u001b[33m\n",
            "\u001b[0m"
          ]
        }
      ]
    },
    {
      "cell_type": "code",
      "source": [
        "!python3 -m pip install torch torchvision torchaudio --index-url https://download.pytorch.org/whl/cpu"
      ],
      "metadata": {
        "id": "BAqPaSfeha7p",
        "outputId": "3d8d7ced-c752-4caa-b6d9-9c1171e3fd15",
        "colab": {
          "base_uri": "https://localhost:8080/"
        }
      },
      "execution_count": null,
      "outputs": [
        {
          "output_type": "stream",
          "name": "stdout",
          "text": [
            "Looking in indexes: https://download.pytorch.org/whl/cpu\n",
            "Requirement already satisfied: torch in /usr/local/lib/python3.10/dist-packages (2.2.1+rocm5.7)\n",
            "Requirement already satisfied: torchvision in /usr/local/lib/python3.10/dist-packages (0.17.1+rocm5.7)\n",
            "Requirement already satisfied: torchaudio in /usr/local/lib/python3.10/dist-packages (2.1.0+cu121)\n",
            "Requirement already satisfied: filelock in /usr/local/lib/python3.10/dist-packages (from torch) (3.13.1)\n",
            "Requirement already satisfied: typing-extensions>=4.8.0 in /usr/local/lib/python3.10/dist-packages (from torch) (4.9.0)\n",
            "Requirement already satisfied: sympy in /usr/local/lib/python3.10/dist-packages (from torch) (1.12)\n",
            "Requirement already satisfied: networkx in /usr/local/lib/python3.10/dist-packages (from torch) (3.2.1)\n",
            "Requirement already satisfied: jinja2 in /usr/local/lib/python3.10/dist-packages (from torch) (3.1.3)\n",
            "Requirement already satisfied: fsspec in /usr/local/lib/python3.10/dist-packages (from torch) (2023.6.0)\n",
            "Requirement already satisfied: pytorch-triton-rocm==2.2.0 in /usr/local/lib/python3.10/dist-packages (from torch) (2.2.0)\n",
            "Requirement already satisfied: numpy in /usr/local/lib/python3.10/dist-packages (from torchvision) (1.25.2)\n",
            "Requirement already satisfied: pillow!=8.3.*,>=5.3.0 in /usr/local/lib/python3.10/dist-packages (from torchvision) (9.4.0)\n",
            "INFO: pip is looking at multiple versions of torchaudio to determine which version is compatible with other requirements. This could take a while.\n",
            "Collecting torchaudio\n",
            "  Downloading https://download.pytorch.org/whl/cpu/torchaudio-2.2.1%2Bcpu-cp310-cp310-linux_x86_64.whl (1.7 MB)\n",
            "\u001b[2K     \u001b[90m━━━━━━━━━━━━━━━━━━━━━━━━━━━━━━━━━━━━━━━━\u001b[0m \u001b[32m1.7/1.7 MB\u001b[0m \u001b[31m23.8 MB/s\u001b[0m eta \u001b[36m0:00:00\u001b[0m\n",
            "\u001b[?25hRequirement already satisfied: MarkupSafe>=2.0 in /usr/local/lib/python3.10/dist-packages (from jinja2->torch) (2.1.5)\n",
            "Requirement already satisfied: mpmath>=0.19 in /usr/local/lib/python3.10/dist-packages (from sympy->torch) (1.3.0)\n",
            "Installing collected packages: torchaudio\n",
            "  Attempting uninstall: torchaudio\n",
            "    Found existing installation: torchaudio 2.1.0+cu121\n",
            "    Uninstalling torchaudio-2.1.0+cu121:\n",
            "      Successfully uninstalled torchaudio-2.1.0+cu121\n",
            "Successfully installed torchaudio-2.2.1+cpu\n",
            "\u001b[33mWARNING: Running pip as the 'root' user can result in broken permissions and conflicting behaviour with the system package manager. It is recommended to use a virtual environment instead: https://pip.pypa.io/warnings/venv\u001b[0m\u001b[33m\n",
            "\u001b[0m"
          ]
        }
      ]
    },
    {
      "cell_type": "code",
      "source": [
        "!pip install intel-extension-for-pytorch --upgrade"
      ],
      "metadata": {
        "id": "o2gLzuowh-XJ",
        "outputId": "44c083bd-25ae-409e-8acf-0760f5435cfc",
        "colab": {
          "base_uri": "https://localhost:8080/"
        }
      },
      "execution_count": null,
      "outputs": [
        {
          "output_type": "stream",
          "name": "stdout",
          "text": [
            "Requirement already satisfied: intel-extension-for-pytorch in /usr/local/lib/python3.10/dist-packages (2.2.0)\n",
            "Requirement already satisfied: psutil in /usr/local/lib/python3.10/dist-packages (from intel-extension-for-pytorch) (5.9.5)\n",
            "Requirement already satisfied: numpy in /usr/local/lib/python3.10/dist-packages (from intel-extension-for-pytorch) (1.25.2)\n",
            "Requirement already satisfied: packaging in /usr/local/lib/python3.10/dist-packages (from intel-extension-for-pytorch) (23.2)\n",
            "\u001b[33mWARNING: Running pip as the 'root' user can result in broken permissions and conflicting behaviour with the system package manager. It is recommended to use a virtual environment instead: https://pip.pypa.io/warnings/venv\u001b[0m\u001b[33m\n",
            "\u001b[0m"
          ]
        }
      ]
    },
    {
      "cell_type": "code",
      "metadata": {
        "colab": {
          "base_uri": "https://localhost:8080/"
        },
        "id": "2RtEvp3Me4va",
        "outputId": "86bb234d-562e-45b5-a4da-a6ee78f20029"
      },
      "source": [
        "! pip install sentencepiece"
      ],
      "execution_count": null,
      "outputs": [
        {
          "output_type": "stream",
          "name": "stdout",
          "text": [
            "Requirement already satisfied: sentencepiece in /usr/local/lib/python3.10/dist-packages (0.1.99)\n",
            "\u001b[33mWARNING: Running pip as the 'root' user can result in broken permissions and conflicting behaviour with the system package manager. It is recommended to use a virtual environment instead: https://pip.pypa.io/warnings/venv\u001b[0m\u001b[33m\n",
            "\u001b[0m"
          ]
        }
      ]
    },
    {
      "cell_type": "code",
      "source": [
        "!pip install deep_translator"
      ],
      "metadata": {
        "id": "Fz91sFrIiZGX",
        "outputId": "85d6be2b-4394-413e-9483-c41e08f917c6",
        "colab": {
          "base_uri": "https://localhost:8080/"
        }
      },
      "execution_count": null,
      "outputs": [
        {
          "output_type": "stream",
          "name": "stdout",
          "text": [
            "Requirement already satisfied: deep_translator in /usr/local/lib/python3.10/dist-packages (1.11.4)\n",
            "Requirement already satisfied: beautifulsoup4<5.0.0,>=4.9.1 in /usr/local/lib/python3.10/dist-packages (from deep_translator) (4.12.3)\n",
            "Requirement already satisfied: requests<3.0.0,>=2.23.0 in /usr/local/lib/python3.10/dist-packages (from deep_translator) (2.31.0)\n",
            "Requirement already satisfied: soupsieve>1.2 in /usr/local/lib/python3.10/dist-packages (from beautifulsoup4<5.0.0,>=4.9.1->deep_translator) (2.5)\n",
            "Requirement already satisfied: charset-normalizer<4,>=2 in /usr/local/lib/python3.10/dist-packages (from requests<3.0.0,>=2.23.0->deep_translator) (3.3.2)\n",
            "Requirement already satisfied: idna<4,>=2.5 in /usr/local/lib/python3.10/dist-packages (from requests<3.0.0,>=2.23.0->deep_translator) (3.6)\n",
            "Requirement already satisfied: urllib3<3,>=1.21.1 in /usr/local/lib/python3.10/dist-packages (from requests<3.0.0,>=2.23.0->deep_translator) (2.0.7)\n",
            "Requirement already satisfied: certifi>=2017.4.17 in /usr/local/lib/python3.10/dist-packages (from requests<3.0.0,>=2.23.0->deep_translator) (2024.2.2)\n",
            "\u001b[33mWARNING: Running pip as the 'root' user can result in broken permissions and conflicting behaviour with the system package manager. It is recommended to use a virtual environment instead: https://pip.pypa.io/warnings/venv\u001b[0m\u001b[33m\n",
            "\u001b[0m"
          ]
        }
      ]
    },
    {
      "cell_type": "code",
      "source": [
        "# Install PyTorch 2.2.* without specifying torchvision version\n",
        "!pip install torch==2.2.* torchvision -f https://download.pytorch.org/whl/rocm5.7/torch_stable.html\n",
        "\n",
        "# If PyTorch 2.2.* is successfully installed, install the latest compatible torchvision version\n",
        "!pip install torchvision"
      ],
      "metadata": {
        "id": "gVwnDwTol6H2",
        "outputId": "dca5c0b6-d477-449c-fdbd-8bde9e394dc3",
        "colab": {
          "base_uri": "https://localhost:8080/"
        }
      },
      "execution_count": null,
      "outputs": [
        {
          "output_type": "stream",
          "name": "stdout",
          "text": [
            "Looking in links: https://download.pytorch.org/whl/rocm5.7/torch_stable.html\n",
            "Requirement already satisfied: torch==2.2.* in /usr/local/lib/python3.10/dist-packages (2.2.1+rocm5.7)\n",
            "Requirement already satisfied: torchvision in /usr/local/lib/python3.10/dist-packages (0.17.1+rocm5.7)\n",
            "Requirement already satisfied: filelock in /usr/local/lib/python3.10/dist-packages (from torch==2.2.*) (3.13.1)\n",
            "Requirement already satisfied: typing-extensions>=4.8.0 in /usr/local/lib/python3.10/dist-packages (from torch==2.2.*) (4.9.0)\n",
            "Requirement already satisfied: sympy in /usr/local/lib/python3.10/dist-packages (from torch==2.2.*) (1.12)\n",
            "Requirement already satisfied: networkx in /usr/local/lib/python3.10/dist-packages (from torch==2.2.*) (3.2.1)\n",
            "Requirement already satisfied: jinja2 in /usr/local/lib/python3.10/dist-packages (from torch==2.2.*) (3.1.3)\n",
            "Requirement already satisfied: fsspec in /usr/local/lib/python3.10/dist-packages (from torch==2.2.*) (2023.6.0)\n",
            "Requirement already satisfied: pytorch-triton-rocm==2.2.0 in /usr/local/lib/python3.10/dist-packages (from torch==2.2.*) (2.2.0)\n",
            "Requirement already satisfied: numpy in /usr/local/lib/python3.10/dist-packages (from torchvision) (1.25.2)\n",
            "Requirement already satisfied: pillow!=8.3.*,>=5.3.0 in /usr/local/lib/python3.10/dist-packages (from torchvision) (9.4.0)\n",
            "Requirement already satisfied: MarkupSafe>=2.0 in /usr/local/lib/python3.10/dist-packages (from jinja2->torch==2.2.*) (2.1.5)\n",
            "Requirement already satisfied: mpmath>=0.19 in /usr/local/lib/python3.10/dist-packages (from sympy->torch==2.2.*) (1.3.0)\n",
            "\u001b[33mWARNING: Running pip as the 'root' user can result in broken permissions and conflicting behaviour with the system package manager. It is recommended to use a virtual environment instead: https://pip.pypa.io/warnings/venv\u001b[0m\u001b[33m\n",
            "\u001b[0mRequirement already satisfied: torchvision in /usr/local/lib/python3.10/dist-packages (0.17.1+rocm5.7)\n",
            "Requirement already satisfied: numpy in /usr/local/lib/python3.10/dist-packages (from torchvision) (1.25.2)\n",
            "Requirement already satisfied: torch==2.2.1 in /usr/local/lib/python3.10/dist-packages (from torchvision) (2.2.1+rocm5.7)\n",
            "Requirement already satisfied: pillow!=8.3.*,>=5.3.0 in /usr/local/lib/python3.10/dist-packages (from torchvision) (9.4.0)\n",
            "Requirement already satisfied: filelock in /usr/local/lib/python3.10/dist-packages (from torch==2.2.1->torchvision) (3.13.1)\n",
            "Requirement already satisfied: typing-extensions>=4.8.0 in /usr/local/lib/python3.10/dist-packages (from torch==2.2.1->torchvision) (4.9.0)\n",
            "Requirement already satisfied: sympy in /usr/local/lib/python3.10/dist-packages (from torch==2.2.1->torchvision) (1.12)\n",
            "Requirement already satisfied: networkx in /usr/local/lib/python3.10/dist-packages (from torch==2.2.1->torchvision) (3.2.1)\n",
            "Requirement already satisfied: jinja2 in /usr/local/lib/python3.10/dist-packages (from torch==2.2.1->torchvision) (3.1.3)\n",
            "Requirement already satisfied: fsspec in /usr/local/lib/python3.10/dist-packages (from torch==2.2.1->torchvision) (2023.6.0)\n",
            "Requirement already satisfied: pytorch-triton-rocm==2.2.0 in /usr/local/lib/python3.10/dist-packages (from torch==2.2.1->torchvision) (2.2.0)\n",
            "Requirement already satisfied: MarkupSafe>=2.0 in /usr/local/lib/python3.10/dist-packages (from jinja2->torch==2.2.1->torchvision) (2.1.5)\n",
            "Requirement already satisfied: mpmath>=0.19 in /usr/local/lib/python3.10/dist-packages (from sympy->torch==2.2.1->torchvision) (1.3.0)\n",
            "\u001b[33mWARNING: Running pip as the 'root' user can result in broken permissions and conflicting behaviour with the system package manager. It is recommended to use a virtual environment instead: https://pip.pypa.io/warnings/venv\u001b[0m\u001b[33m\n",
            "\u001b[0m"
          ]
        }
      ]
    },
    {
      "cell_type": "code",
      "source": [
        "!pip install python-docx docx2pdf"
      ],
      "metadata": {
        "colab": {
          "base_uri": "https://localhost:8080/"
        },
        "id": "6syJS0C4t6vz",
        "outputId": "5501eb08-7e76-4b71-b823-784f00ecd8ac"
      },
      "execution_count": null,
      "outputs": [
        {
          "output_type": "stream",
          "name": "stdout",
          "text": [
            "Requirement already satisfied: python-docx in /usr/local/lib/python3.10/dist-packages (1.1.0)\n",
            "Requirement already satisfied: docx2pdf in /usr/local/lib/python3.10/dist-packages (0.1.8)\n",
            "Requirement already satisfied: lxml>=3.1.0 in /usr/local/lib/python3.10/dist-packages (from python-docx) (4.9.4)\n",
            "Requirement already satisfied: typing-extensions in /usr/local/lib/python3.10/dist-packages (from python-docx) (4.9.0)\n",
            "Requirement already satisfied: tqdm>=4.41.0 in /usr/local/lib/python3.10/dist-packages (from docx2pdf) (4.66.2)\n",
            "\u001b[33mWARNING: Running pip as the 'root' user can result in broken permissions and conflicting behaviour with the system package manager. It is recommended to use a virtual environment instead: https://pip.pypa.io/warnings/venv\u001b[0m\u001b[33m\n",
            "\u001b[0m"
          ]
        }
      ]
    },
    {
      "cell_type": "code",
      "source": [
        "!pip install pdfplumber"
      ],
      "metadata": {
        "colab": {
          "base_uri": "https://localhost:8080/"
        },
        "id": "OcRbdEWBuB6L",
        "outputId": "f8074418-2dd6-421b-b5b5-2bcc7c06cd30"
      },
      "execution_count": null,
      "outputs": [
        {
          "output_type": "stream",
          "name": "stdout",
          "text": [
            "Requirement already satisfied: pdfplumber in /usr/local/lib/python3.10/dist-packages (0.10.4)\n",
            "Requirement already satisfied: pdfminer.six==20221105 in /usr/local/lib/python3.10/dist-packages (from pdfplumber) (20221105)\n",
            "Requirement already satisfied: Pillow>=9.1 in /usr/local/lib/python3.10/dist-packages (from pdfplumber) (9.4.0)\n",
            "Requirement already satisfied: pypdfium2>=4.18.0 in /usr/local/lib/python3.10/dist-packages (from pdfplumber) (4.27.0)\n",
            "Requirement already satisfied: charset-normalizer>=2.0.0 in /usr/local/lib/python3.10/dist-packages (from pdfminer.six==20221105->pdfplumber) (3.3.2)\n",
            "Requirement already satisfied: cryptography>=36.0.0 in /usr/local/lib/python3.10/dist-packages (from pdfminer.six==20221105->pdfplumber) (42.0.3)\n",
            "Requirement already satisfied: cffi>=1.12 in /usr/local/lib/python3.10/dist-packages (from cryptography>=36.0.0->pdfminer.six==20221105->pdfplumber) (1.16.0)\n",
            "Requirement already satisfied: pycparser in /usr/local/lib/python3.10/dist-packages (from cffi>=1.12->cryptography>=36.0.0->pdfminer.six==20221105->pdfplumber) (2.21)\n",
            "\u001b[33mWARNING: Running pip as the 'root' user can result in broken permissions and conflicting behaviour with the system package manager. It is recommended to use a virtual environment instead: https://pip.pypa.io/warnings/venv\u001b[0m\u001b[33m\n",
            "\u001b[0m"
          ]
        }
      ]
    },
    {
      "cell_type": "code",
      "source": [
        "!pip install FPDF"
      ],
      "metadata": {
        "colab": {
          "base_uri": "https://localhost:8080/"
        },
        "id": "AMWWdTFNuLC0",
        "outputId": "9d758233-f9de-4485-f03c-67f6d3127c92"
      },
      "execution_count": null,
      "outputs": [
        {
          "output_type": "stream",
          "name": "stdout",
          "text": [
            "Requirement already satisfied: FPDF in /usr/local/lib/python3.10/dist-packages (1.7.2)\n",
            "\u001b[33mWARNING: Running pip as the 'root' user can result in broken permissions and conflicting behaviour with the system package manager. It is recommended to use a virtual environment instead: https://pip.pypa.io/warnings/venv\u001b[0m\u001b[33m\n",
            "\u001b[0m"
          ]
        }
      ]
    },
    {
      "cell_type": "markdown",
      "source": [
        "**Importing packages**"
      ],
      "metadata": {
        "id": "h3ifr_8cWIxT"
      }
    },
    {
      "cell_type": "code",
      "source": [
        "from transformers import MBartForConditionalGeneration, MBart50TokenizerFast\n",
        "import torch\n",
        "from intel_extension_for_pytorch.transformers.optimize import optimize\n",
        "from functools import partial\n",
        "import pdfplumber\n",
        "from fpdf import FPDF\n",
        "from deep_translator import GoogleTranslator\n",
        "from nltk.tokenize import sent_tokenize"
      ],
      "metadata": {
        "id": "4JchVbnoibiz",
        "outputId": "60d245be-2d9b-46b0-fbed-399d3c9480c5",
        "colab": {
          "base_uri": "https://localhost:8080/",
          "height": 369
        }
      },
      "execution_count": null,
      "outputs": [
        {
          "output_type": "stream",
          "name": "stdout",
          "text": [
            "ERROR! Intel® Extension for PyTorch* needs to work with PyTorch 2.2.*, but PyTorch 2.1.0+cu121 is found. Please switch to the matching version and run again.\n"
          ]
        },
        {
          "output_type": "error",
          "ename": "NameError",
          "evalue": "name 'exit' is not defined",
          "traceback": [
            "\u001b[0;31m---------------------------------------------------------------------------\u001b[0m",
            "\u001b[0;31mNameError\u001b[0m                                 Traceback (most recent call last)",
            "\u001b[0;32m<ipython-input-8-303122d81ec0>\u001b[0m in \u001b[0;36m<cell line: 3>\u001b[0;34m()\u001b[0m\n\u001b[1;32m      1\u001b[0m \u001b[0;32mfrom\u001b[0m \u001b[0mtransformers\u001b[0m \u001b[0;32mimport\u001b[0m \u001b[0mMBartForConditionalGeneration\u001b[0m\u001b[0;34m,\u001b[0m \u001b[0mMBart50TokenizerFast\u001b[0m\u001b[0;34m\u001b[0m\u001b[0;34m\u001b[0m\u001b[0m\n\u001b[1;32m      2\u001b[0m \u001b[0;32mimport\u001b[0m \u001b[0mtorch\u001b[0m\u001b[0;34m\u001b[0m\u001b[0;34m\u001b[0m\u001b[0m\n\u001b[0;32m----> 3\u001b[0;31m \u001b[0;32mfrom\u001b[0m \u001b[0mintel_extension_for_pytorch\u001b[0m\u001b[0;34m.\u001b[0m\u001b[0mtransformers\u001b[0m\u001b[0;34m.\u001b[0m\u001b[0moptimize\u001b[0m \u001b[0;32mimport\u001b[0m \u001b[0moptimize\u001b[0m\u001b[0;34m\u001b[0m\u001b[0;34m\u001b[0m\u001b[0m\n\u001b[0m\u001b[1;32m      4\u001b[0m \u001b[0;32mfrom\u001b[0m \u001b[0mfunctools\u001b[0m \u001b[0;32mimport\u001b[0m \u001b[0mpartial\u001b[0m\u001b[0;34m\u001b[0m\u001b[0;34m\u001b[0m\u001b[0m\n\u001b[1;32m      5\u001b[0m \u001b[0;32mimport\u001b[0m \u001b[0mpdfplumber\u001b[0m\u001b[0;34m\u001b[0m\u001b[0;34m\u001b[0m\u001b[0m\n",
            "\u001b[0;32m/usr/local/lib/python3.10/dist-packages/intel_extension_for_pytorch/__init__.py\u001b[0m in \u001b[0;36m<module>\u001b[0;34m\u001b[0m\n\u001b[1;32m     34\u001b[0m         \u001b[0;34m+\u001b[0m \u001b[0;34m\"Please switch to the matching version and run again.\"\u001b[0m\u001b[0;34m\u001b[0m\u001b[0;34m\u001b[0m\u001b[0m\n\u001b[1;32m     35\u001b[0m     )\n\u001b[0;32m---> 36\u001b[0;31m     \u001b[0mexit\u001b[0m\u001b[0;34m(\u001b[0m\u001b[0;36m127\u001b[0m\u001b[0;34m)\u001b[0m\u001b[0;34m\u001b[0m\u001b[0;34m\u001b[0m\u001b[0m\n\u001b[0m\u001b[1;32m     37\u001b[0m \u001b[0;34m\u001b[0m\u001b[0m\n\u001b[1;32m     38\u001b[0m \u001b[0;34m\u001b[0m\u001b[0m\n",
            "\u001b[0;31mNameError\u001b[0m: name 'exit' is not defined"
          ]
        }
      ]
    },
    {
      "cell_type": "code",
      "metadata": {
        "id": "OLwUoKhxD-jt"
      },
      "source": [
        "!pip freeze | grep transformers"
      ],
      "execution_count": null,
      "outputs": []
    },
    {
      "cell_type": "markdown",
      "source": [
        "***Model***"
      ],
      "metadata": {
        "id": "yXV8-H5KWS2L"
      }
    },
    {
      "cell_type": "code",
      "metadata": {
        "id": "apok22zGeHWg"
      },
      "source": [
        "from transformers import MBartForConditionalGeneration, MBart50TokenizerFast\n"
      ],
      "execution_count": null,
      "outputs": []
    },
    {
      "cell_type": "code",
      "metadata": {
        "id": "BQEzddKeeN2N",
        "colab": {
          "base_uri": "https://localhost:8080/"
        },
        "outputId": "c99c9598-ae66-46c2-a530-8a7d8e424559"
      },
      "source": [
        "model = MBartForConditionalGeneration.from_pretrained(\"facebook/mbart-large-50-one-to-many-mmt\")\n",
        "\n"
      ],
      "execution_count": null,
      "outputs": [
        {
          "output_type": "stream",
          "name": "stderr",
          "text": [
            "/usr/local/lib/python3.10/dist-packages/huggingface_hub/utils/_token.py:88: UserWarning: \n",
            "The secret `HF_TOKEN` does not exist in your Colab secrets.\n",
            "To authenticate with the Hugging Face Hub, create a token in your settings tab (https://huggingface.co/settings/tokens), set it as secret in your Google Colab and restart your session.\n",
            "You will be able to reuse this secret in all of your notebooks.\n",
            "Please note that authentication is recommended but still optional to access public models or datasets.\n",
            "  warnings.warn(\n"
          ]
        }
      ]
    },
    {
      "cell_type": "code",
      "metadata": {
        "id": "NJPI14dwX2oC"
      },
      "source": [
        "tokenizer = MBart50TokenizerFast.from_pretrained(\"facebook/mbart-large-50-one-to-many-mmt\", src_lang=\"en_XX\")"
      ],
      "execution_count": null,
      "outputs": []
    },
    {
      "cell_type": "code",
      "metadata": {
        "id": "-mqJLyp4eZaj"
      },
      "source": [
        "article_en = \"U.N encourages wearing masks\""
      ],
      "execution_count": null,
      "outputs": []
    },
    {
      "cell_type": "code",
      "metadata": {
        "id": "Dzj93gO7f0Gc"
      },
      "source": [
        "model_inputs = tokenizer(article_en, return_tensors=\"pt\")"
      ],
      "execution_count": null,
      "outputs": []
    },
    {
      "cell_type": "code",
      "metadata": {
        "id": "SAPso02IfehL"
      },
      "source": [
        "# translate from English to Hindi\n",
        "generated_tokens = model.generate(\n",
        "    **model_inputs,\n",
        "    forced_bos_token_id=tokenizer.lang_code_to_id[\"ta_IN\"]\n",
        ")"
      ],
      "execution_count": null,
      "outputs": []
    },
    {
      "cell_type": "code",
      "metadata": {
        "id": "kNRp5-dMfoiw"
      },
      "source": [
        "translation = tokenizer.batch_decode(generated_tokens, skip_special_tokens=True)"
      ],
      "execution_count": null,
      "outputs": []
    },
    {
      "cell_type": "code",
      "metadata": {
        "id": "0QUelm8ZgIOU"
      },
      "source": [
        "def not_within_bboxes(obj, bboxes):\n",
        "    \"\"\"Check if the object is in any of the table's bbox.\"\"\"\n",
        "    def obj_in_bbox(_bbox):\n",
        "        \"\"\"Find Bboxes of objexts.\"\"\"\n",
        "        v_mid = (obj[\"top\"] + obj[\"bottom\"]) / 2\n",
        "        h_mid = (obj[\"x0\"] + obj[\"x1\"]) / 2\n",
        "        x0, top, x1, bottom = _bbox\n",
        "        return (h_mid >= x0) and (h_mid < x1) and (v_mid >= top) and (v_mid < bottom)\n",
        "    return not any(obj_in_bbox(__bbox) for __bbox in bboxes)\n",
        "\n",
        "def extract(page):\n",
        "    \"\"\"Extract PDF text, Filter tables and delete in-par breaks.\"\"\"\n",
        "    # Filter-out tables\n",
        "    if page.find_tables() != []:\n",
        "        # Get the bounding boxes of the tables on the page.\n",
        "        bboxes = [table.bbox for table in page.find_tables()]\n",
        "        bbox_not_within_bboxes = partial(not_within_bboxes, bboxes=bboxes)\n",
        "        # Filter-out tables from page\n",
        "        page = page.filter(bbox_not_within_bboxes)\n",
        "    # Extract Text\n",
        "    extracted = page.extract_text()\n",
        "    # Delete in-paragraph line breaks\n",
        "    extracted = extracted.replace(\".\\n\", \"**/m\" # keep par breaks\n",
        "                        ).replace(\". \\n\", \"**/m\" # keep par breaks\n",
        "                        ).replace(\"\\n\", \"\" # delete in-par breaks\n",
        "                        ).replace(\"**/m\", \".\\n\\n\") # restore par break\n",
        "    return extracted"
      ],
      "execution_count": null,
      "outputs": []
    },
    {
      "cell_type": "code",
      "metadata": {
        "id": "9VGDlKnEgGKD"
      },
      "source": [
        "from transformers import MBartForConditionalGeneration, MBart50TokenizerFast\n",
        "import torch\n",
        "from intel_extension_for_pytorch.transformers.optimize import optimize"
      ],
      "execution_count": null,
      "outputs": []
    },
    {
      "cell_type": "code",
      "source": [
        "model = MBartForConditionalGeneration.from_pretrained(\"facebook/mbart-large-50-one-to-many-mmt\")\n",
        "tokenizer = MBart50TokenizerFast.from_pretrained(\"facebook/mbart-large-50-one-to-many-mmt\", src_lang=\"en_XX\")"
      ],
      "metadata": {
        "id": "abTtq9Kq1f8Q"
      },
      "execution_count": null,
      "outputs": []
    },
    {
      "cell_type": "code",
      "source": [
        "def translate_extracted(paragraph):\n",
        "    model_inputs = tokenizer(paragraph, return_tensors=\"pt\")\n",
        "    # translate from English to Hindi\n",
        "    generated_tokens = model.generate(\n",
        "        **model_inputs,\n",
        "        forced_bos_token_id=tokenizer.lang_code_to_id[\"hi_IN\"]\n",
        "    )\n",
        "    return tokenizer.batch_decode(generated_tokens, skip_special_tokens=True)"
      ],
      "metadata": {
        "id": "Owr8aXSY1kFw"
      },
      "execution_count": null,
      "outputs": []
    },
    {
      "cell_type": "markdown",
      "source": [
        "**packages installed for pdf**"
      ],
      "metadata": {
        "id": "5OpElXjSWeF9"
      }
    },
    {
      "cell_type": "code",
      "source": [
        "!pip install pdfplumber"
      ],
      "metadata": {
        "colab": {
          "base_uri": "https://localhost:8080/"
        },
        "id": "tm2Y3Ta015Xo",
        "outputId": "c9a1d1ce-027f-4e79-a5ad-5576a9415846"
      },
      "execution_count": null,
      "outputs": [
        {
          "output_type": "stream",
          "name": "stdout",
          "text": [
            "Requirement already satisfied: pdfplumber in /usr/local/lib/python3.10/dist-packages (0.10.4)\n",
            "Requirement already satisfied: pdfminer.six==20221105 in /usr/local/lib/python3.10/dist-packages (from pdfplumber) (20221105)\n",
            "Requirement already satisfied: Pillow>=9.1 in /usr/local/lib/python3.10/dist-packages (from pdfplumber) (9.4.0)\n",
            "Requirement already satisfied: pypdfium2>=4.18.0 in /usr/local/lib/python3.10/dist-packages (from pdfplumber) (4.27.0)\n",
            "Requirement already satisfied: charset-normalizer>=2.0.0 in /usr/local/lib/python3.10/dist-packages (from pdfminer.six==20221105->pdfplumber) (3.3.2)\n",
            "Requirement already satisfied: cryptography>=36.0.0 in /usr/local/lib/python3.10/dist-packages (from pdfminer.six==20221105->pdfplumber) (42.0.3)\n",
            "Requirement already satisfied: cffi>=1.12 in /usr/local/lib/python3.10/dist-packages (from cryptography>=36.0.0->pdfminer.six==20221105->pdfplumber) (1.16.0)\n",
            "Requirement already satisfied: pycparser in /usr/local/lib/python3.10/dist-packages (from cffi>=1.12->cryptography>=36.0.0->pdfminer.six==20221105->pdfplumber) (2.21)\n",
            "\u001b[33mWARNING: Running pip as the 'root' user can result in broken permissions and conflicting behaviour with the system package manager. It is recommended to use a virtual environment instead: https://pip.pypa.io/warnings/venv\u001b[0m\u001b[33m\n",
            "\u001b[0m"
          ]
        }
      ]
    },
    {
      "cell_type": "markdown",
      "source": [
        "The output we got from one above sample pdf *lect_9.pdf* that is convert into **hindi language** from our model"
      ],
      "metadata": {
        "id": "KkrAELVHWnoK"
      }
    },
    {
      "cell_type": "code",
      "source": [
        "import pdfplumber\n",
        "from fpdf import FPDF\n",
        "ARTICLE = \"\"\n",
        "\n",
        "with pdfplumber.open(\"lect_9.pdf\") as pdf:\n",
        "    # Initialize FPDF file to write on\n",
        "    fpdf = FPDF()\n",
        "    fpdf.set_font(\"Arial\", size = 7)\n",
        "\n",
        "    # Treat each page individually\n",
        "    for page in pdf.pages:\n",
        "        # Extract Page\n",
        "        extracted = extract(page)\n",
        "        ARTICLE += extracted\n",
        "        # Translate Page\n",
        "        if extracted != \"\":\n",
        "            # Translate paragraphs individually to keep breaks\n",
        "            paragraphs = extracted.split(\"\\n\\n\")\n",
        "            translated = \"\\n\\n\".join([str(translate_extracted(paragraph)) for paragraph in paragraphs])\n",
        "        else:\n",
        "            translated = extracted\n",
        "        print(translated)\n",
        "        # Write Page\n",
        "        fpdf.add_page()\n",
        "        fpdf.multi_cell(w=0, h=5,txt= translated.encode(\"latin-1\",errors = \"replace\").decode(\"latin-1\"))\n",
        "# Save all FPDF pages\n",
        "fpdf.output(\"lect_1_tr.pdf\")\n"
      ],
      "metadata": {
        "colab": {
          "base_uri": "https://localhost:8080/",
          "height": 698
        },
        "id": "uQNp3N2v10Rs",
        "outputId": "deb45a34-b376-47cb-aac3-4ffb118858f9"
      },
      "execution_count": null,
      "outputs": [
        {
          "output_type": "stream",
          "name": "stdout",
          "text": [
            "['नैतिकता और मूल्य डॉ. एम. राशमी सोशल साइंस विट विश्वविद्यालय, वेलोर व्याख्यान – 9चारिता और सेवा समाजこんにちは सभी! पिछली व्याख्यान में हमने जरूरतमंदों की सहायता के बारे में बात की और आज की व्याख्यान में हम कैसे जरूरतमंदों की सहायता करने के बारे में बात करेंगे। वास्तव में, मेरी पहली व्याख्यान के बाद से मैंने दूसरों की सहायता के विभिन्न तरीके पर चर्चा की है, और उनमें से एक में व्यय को कम करना शामिल है।']\n",
            "\n",
            "['दूसरों के प्रति हमारी सहायता भी उनकी आवश्यकताओं पर निर्भर करती है या उनकी किस प्रकार की सहायता की जरूरत है और इसी के लिए हमारी क्षमता, समय, ऊर्जा और समर्पण पर भी निर्भर करती है। हम उन्हें भोजन देकर, उनके लिए रोजगार पैदा करके, उन्हें शिक्षित करके और प्रशिक्षण देकर और उन्हें स्वयं ही बनाए रखने में सक्षम कर सकते हैं, हम उनके सुरक्षा, सम्मान और सुरक्षा सुनिश्चित करने के लिए यहां तक कि अभियान, विरोध, बातचीत और लेखन कर सकते हैं, हम अपने नेताओं को चुनते समय अधिक समझदार हो सकते हैं और हम उन्हें बस बैठ कर सुन सकते हैं। आप जानते हैं कि अधिकांश लोग निराशा में पड़ जाते हैं क्योंकि उनके पास कोई नहीं है जो उनके विचारों को सुन सके।']\n",
            "\n",
            "['तो, चलो दान का अर्थ समझें। अधिकतर संगठित धर्मों ने दुनिया भर में दान का समर्थन एक महान गुण के रूप में किया है जो उनके अनुयायियों को होना चाहिए। आप ईसाई धर्म, इस्लाम, हिंदू धर्म, बौद्ध धर्म या जारोआस्ट्रियन धर्म को ले सकते हैं, यह कोई भी धर्म हो, वे स्पष्ट रूप से दान का गुण का समर्थन करते हैं। दान एक स्वैच्छिक कार्य का एक रूप है जो सीधे या अप्रत्यक्ष रूप से लोगों को व्यक्तिगत रूप से या सामूहिक रूप से उनकी सहानुभूति की भावना से दूसरों की सहायता करने के लिए सहायता या सेवा प्रदान करने के लिए किया जा सकता है, विशेष रूप से उन लोगों को जो गरीबी, बुरी स्वास्थ्य, निष्क्रियता, निरक्षरता, दमन, दमन, दुर्व्यवहार, शोषण आदि के शिकार हैं।']\n",
            "\n",
            "['स्वैच्छिक कार्य को मुख्य रूप से निम्नलिखित लक्षणों से वर्णित किया जाता है, जिनमें शामिल हैंः 1) दूसरों की सहायता करने और उनके कल्याण को सभी संभव तरीकों से बढ़ावा देने की आनुवंशिक प्रेरणा, अनावश्यक रूप से आर्थिक रूप से।']\n",
            "\n",
            "['2) दी गई सहायता के बदले किसी भी प्रकार के भौतिक लाभ की अपेक्षा की कमी3) सामाजिक चिंता की भावना और जरूरतमंदों की सहायता करने की अभिमुखता।']\n",
            "\n",
            "['4) मानवता की सेवा के सर्वोच्च गुण में विश्वास।']\n",
            "\n",
            "['5) अपने अधिकारों पर अपने कर्तव्यों की सर्वोच्चता में विश्वास हालांकि मानव स्वभाव का एक और पक्ष भी है. मानव स्वभाव के अनुसार स्वयं की खोज भी कर सकता है. वैयक्तिवाद, भौतिकवाद और आनंदवाद के वर्तमान युग में, यह स्वायत्तता की प्रवृत्ति भी बढ़ी है. इससे स्वैच्छिकता और स्वैच्छिक कार्य पर प्रतिकूल प्रभाव पड़ा है.']\n",
            "\n",
            "['आज लोग शुरू से ही यह जानना चाहते हैं कि क्या वे किसी कार्यक्रम या गतिविधि में भाग लेते हैं तो क्या उन्हें लाभ होगा या किस प्रकार से उन्हें लाभ होगा। लेकिन इसके बावजूद कुछ लोग स्वैच्छिक सहायता प्रदान करते हैं।']\n",
            "['उन्होंने राष्ट्रीय सेवा योजनाओं और राष्ट्रीय कडेट कोर में भाग लिया जहां शिक्षित युवाओं को समाज के प्रति उनके योगदान के लिए प्रशिक्षित किया जाता है। उन्हें सहायता, समर्थन और कार्य करने के लिए प्रशिक्षित किया जाता है जिससे उनके व्यक्तित्व में दान की महत्ता को प्रोत्साहित किया जाता है। मैं स्वयं कॉलेज के दिनों में एनएसएस का सक्रिय सदस्य था, जहां हमने अपने मित्र के लिए घर बनाने के लिए धनराशि जुटाई और सामाजिक-आर्थिक सर्वेक्षण करने में पंचायतों को भी सहायता दी।']\n",
            "\n",
            "['ठीक है मित्रों, अब एक प्रतिबिम्ब बिंदु के लिए समय है।']\n",
            "\n",
            "['ग्रीनपीस क्या है? क्या आप इसके बारे में सुना है? आप क्या सोचते हैं कि यह क्या है? क्या यह कुछ प्रकार का धर्मार्थ संगठन है? अच्छी तरह से, अपने नाम के साथ आप समझ सकते हैं कि ग्रीनपीस एक अंतरराष्ट्रीय गैर सरकारी संगठन है या गैर सरकारी संगठन है 55 से अधिक देशों में कार्यालयों के साथ और इस ग्रह को हरित, शांतिपूर्ण और जीवित करने में शामिल है. इसलिए, यह एक पर्यावरणीय धर्मार्थ संगठन है जो पर्यावरण के लिए संरक्षण, प्रशंसा और सतत विकास को बढ़ावा देने के तरीके पर ध्यान देता है. इस प्रकार के धर्मार्थ के लिए दो प्राथमिक उपसमूह हैं: पर्यावरण संरक्षण और संरक्षण और पार्क और प्रकृति केंद्र. इसी प्रकार, ऐसे धर्मार्थ संगठनों के अन्य उदाहरण हैं जैसे जानवरों के बारे में जो वन्य जीवन संरक्षण संगठन, जानवरों और पशु कल्याण संगठन, शिकार और फिशिंग संरक्षण समूह, चिड़ियाघर और जलशालाएं. हमारे']\n",
            "\n",
            "['वे अंतर्राष्ट्रीय विकास गैर-सरकारी संगठनों, आपदा राहत और मानवीय गैर-सरकारी संगठनों, शांति और मानवाधिकार गैर-सरकारी संगठनों, संरक्षण गैर-सरकारी संगठनों, बाल गोदाम संगठनों जैसे वर्गों में भी आते हैं। प्रज्वाला एक अग्रणी अवैध व्यापाररोधी संगठन है जो यौन व्यापार और यौन अपराध के मुद्दे पर कार्य करता है। इसी प्रकार हमारे पास अन्य गैर-सरकारी संगठन हैं जैसे हेल्पएज इंडिया फाउंडेशन (HelpAge India Foundation) वंचित वृद्ध नागरिकों की देखभाल के लिए और सीआरआई (CRY), जो वंचित बच्चों के बीच कार्य करता है। इनके अलावा, कला और संस्कृति के हितार्थ संगठन भी हैं जो कला और सांस्कृतिक विरासत को संरक्षण में सहायता देते हैं तथा कला और हमारे इतिहास को सम्मानित करते हैं।']\n",
            "\n",
            "['भारतीय शास्त्रीय संगीत, शास्त्रीय संगीत और नृत्य, योग, शिल्प आदि को बढ़ावा देकर भारतीय सांस्कृतिक विरासत को बढ़ावा देता है। इसके अलावा स्वास्थ्य और शिक्षा हितैषिक संस्थाएं भी हैं।']\n",
            "\n",
            "['स्वास्थ्य हितैषी संस्थाएं रोगियों और विकलांगों को सहायता और उपचार करती हैं, रोगों के उपचार पर काम करती हैं और विशिष्ट स्वास्थ्य जोखिमों के बारे में जनता की जागरूकता को बढ़ावा देती हैं। उदाहरण के तौर पर हमारे पास मन एक संगठन है जो लोगों के मानसिक स्वास्थ्य मुद्दों के समाधान में सक्रिय रूप से भाग लेता है।']\n",
            "\n",
            "['शिक्षा हितैषी संस्थाएं, प्रत्येक आयु समूह के छात्रों की सेवा करती हैं, प्री-स्कूल से लेकर स्नातक तक और इसके अतिरिक्त भी। कुछ शिक्षा संस्थाओं के रूप में सेवा करते हैं जबकि शिक्षा को अधिक सुलभ और प्रभावी बनाने पर ध्यान दिया जाता है। उदाहरण के लिए, हमारे पास एफएएए जैसे छात्रवृत्ति संस्थाएं हैं (शिक्षा उत्कृष्टता और अभिगम के लिए फाउंडेशन), जो शिक्षा की समानता और दुर्बल विद्यार्थियों के अवसर पर बल देती है।']\n",
            "\n",
            "['इस व्याख्यान को समाप्त करने से पहले, इस प्रश्न का उत्तर देने की कोशिश करें, नाम Rainbow Warrior किस गैर सरकारी संगठन से जुड़ा है?2']\n",
            "['क्या आपने कभी इस बारे में सुना है? यदि नहीं तो आपको इस प्रतीक प्रतिमा से अवगत होना चाहिए जो प्रकृति के प्रति निराश प्रेम और समर्पण का प्रतिनिधित्व करता है. सीमाओं को तोड़ने और भयरहित अभियान के साथ पर्यायवाची है, ग्रीनपीस ने 1978 से ही रेनबो वॉरियर्स के नाम से समुद्री यात्रा की है. यह 1970 के अंत और 1980 के आरंभिक वर्षों के दौरान व्हेल-विरोधी, प्रति-शिल शिकार, नाभिकीय परीक्षण और नाभिकीय अपशिष्ट डम्पिंग अभियानों की संख्या का समर्थन करता है. 1985 में, फ्रांसीसी गुप्त सेवा एजेंटों ने दो बमों को लगाया और जहाज को डूबा. एक सदस्य मार दिया गया. लेकिन वापस आने से कुछ भी रेनबो वॉरियर को रोक नहीं सकता था. ग्रीनपीस ने उसे एक नए जहाज से प्रतिस्थापित किया, और 22 वर्षों के लिए, दूसरा']\n",
            "\n",
            "['अब मैंने ऐसा क्यों कहा? हाँ मित्रों! हमारा अगला व्याख्यान अतीत और वर्तमान के नेताओं पर होगा.']\n",
            "\n",
            "['तब तक रहो, रहो, रहो।']\n",
            "\n",
            "['3']\n"
          ]
        },
        {
          "output_type": "execute_result",
          "data": {
            "text/plain": [
              "''"
            ],
            "application/vnd.google.colaboratory.intrinsic+json": {
              "type": "string"
            }
          },
          "metadata": {},
          "execution_count": 37
        }
      ]
    },
    {
      "cell_type": "code",
      "source": [
        "from transformers import pipeline\n",
        "from bs4 import BeautifulSoup\n",
        "import requests"
      ],
      "metadata": {
        "id": "TcX3FnX54GZV"
      },
      "execution_count": null,
      "outputs": []
    },
    {
      "cell_type": "code",
      "source": [
        "!pip install transformers"
      ],
      "metadata": {
        "colab": {
          "base_uri": "https://localhost:8080/"
        },
        "id": "DvboflbC4HQg",
        "outputId": "632381f3-d6c8-4cf1-a604-277db6023e13"
      },
      "execution_count": null,
      "outputs": [
        {
          "output_type": "stream",
          "name": "stdout",
          "text": [
            "Requirement already satisfied: transformers in /usr/local/lib/python3.10/dist-packages (4.39.0.dev0)\n",
            "Requirement already satisfied: filelock in /usr/local/lib/python3.10/dist-packages (from transformers) (3.13.1)\n",
            "Requirement already satisfied: huggingface-hub<1.0,>=0.19.3 in /usr/local/lib/python3.10/dist-packages (from transformers) (0.20.3)\n",
            "Requirement already satisfied: numpy>=1.17 in /usr/local/lib/python3.10/dist-packages (from transformers) (1.25.2)\n",
            "Requirement already satisfied: packaging>=20.0 in /usr/local/lib/python3.10/dist-packages (from transformers) (23.2)\n",
            "Requirement already satisfied: pyyaml>=5.1 in /usr/local/lib/python3.10/dist-packages (from transformers) (6.0.1)\n",
            "Requirement already satisfied: regex!=2019.12.17 in /usr/local/lib/python3.10/dist-packages (from transformers) (2023.12.25)\n",
            "Requirement already satisfied: requests in /usr/local/lib/python3.10/dist-packages (from transformers) (2.31.0)\n",
            "Requirement already satisfied: tokenizers<0.19,>=0.14 in /usr/local/lib/python3.10/dist-packages (from transformers) (0.15.2)\n",
            "Requirement already satisfied: safetensors>=0.4.1 in /usr/local/lib/python3.10/dist-packages (from transformers) (0.4.2)\n",
            "Requirement already satisfied: tqdm>=4.27 in /usr/local/lib/python3.10/dist-packages (from transformers) (4.66.2)\n",
            "Requirement already satisfied: fsspec>=2023.5.0 in /usr/local/lib/python3.10/dist-packages (from huggingface-hub<1.0,>=0.19.3->transformers) (2023.6.0)\n",
            "Requirement already satisfied: typing-extensions>=3.7.4.3 in /usr/local/lib/python3.10/dist-packages (from huggingface-hub<1.0,>=0.19.3->transformers) (4.9.0)\n",
            "Requirement already satisfied: charset-normalizer<4,>=2 in /usr/local/lib/python3.10/dist-packages (from requests->transformers) (3.3.2)\n",
            "Requirement already satisfied: idna<4,>=2.5 in /usr/local/lib/python3.10/dist-packages (from requests->transformers) (3.6)\n",
            "Requirement already satisfied: urllib3<3,>=1.21.1 in /usr/local/lib/python3.10/dist-packages (from requests->transformers) (2.0.7)\n",
            "Requirement already satisfied: certifi>=2017.4.17 in /usr/local/lib/python3.10/dist-packages (from requests->transformers) (2024.2.2)\n",
            "\u001b[33mWARNING: Running pip as the 'root' user can result in broken permissions and conflicting behaviour with the system package manager. It is recommended to use a virtual environment instead: https://pip.pypa.io/warnings/venv\u001b[0m\u001b[33m\n",
            "\u001b[0m"
          ]
        }
      ]
    },
    {
      "cell_type": "code",
      "source": [
        "summarizer = pipeline('summarization')"
      ],
      "metadata": {
        "colab": {
          "base_uri": "https://localhost:8080/"
        },
        "id": "B6hjjtea4I9j",
        "outputId": "492bc7eb-0612-47bc-f222-c33a507495f5"
      },
      "execution_count": null,
      "outputs": [
        {
          "output_type": "stream",
          "name": "stderr",
          "text": [
            "No model was supplied, defaulted to sshleifer/distilbart-cnn-12-6 and revision a4f8f3e (https://huggingface.co/sshleifer/distilbart-cnn-12-6).\n",
            "Using a pipeline without specifying a model name and revision in production is not recommended.\n"
          ]
        }
      ]
    },
    {
      "cell_type": "code",
      "source": [
        "ARTICLE = ARTICLE.replace('.','.<eos>')\n",
        "ARTICLE = ARTICLE.replace('!','!<eos>')\n",
        "ARTICLE = ARTICLE.replace('?','?<eos>')\n",
        "sentences = ARTICLE.split('<eos>')"
      ],
      "metadata": {
        "id": "JfbJyNuu4MHX"
      },
      "execution_count": null,
      "outputs": []
    },
    {
      "cell_type": "code",
      "source": [
        "max_chunk = 500\n",
        "current_chunk =0\n",
        "chunks = []"
      ],
      "metadata": {
        "id": "GUbuc3L04OSp"
      },
      "execution_count": null,
      "outputs": []
    },
    {
      "cell_type": "code",
      "source": [
        "for sentence in sentences:\n",
        "  if len(chunks) == current_chunk +1 :\n",
        "    if len(chunks[current_chunk]) + len(sentence.split(' ')) <= max_chunk:\n",
        "      chunks[current_chunk].extend(sentence.split(' '))\n",
        "    else:\n",
        "      current_chunk +=1\n",
        "      chunks.append(sentence.split(' '))\n",
        "  else:\n",
        "    print(current_chunk)\n",
        "    chunks.append(sentence.split(' '))"
      ],
      "metadata": {
        "colab": {
          "base_uri": "https://localhost:8080/"
        },
        "id": "HqwMQY9c4P_a",
        "outputId": "b2a24e59-02c2-481d-e501-db7f41ae4de6"
      },
      "execution_count": null,
      "outputs": [
        {
          "output_type": "stream",
          "name": "stdout",
          "text": [
            "0\n"
          ]
        }
      ]
    },
    {
      "cell_type": "code",
      "source": [
        "for chunk_id in range(len(chunks)):\n",
        "  chunks[chunk_id] = ' '.join(chunks[chunk_id])"
      ],
      "metadata": {
        "id": "9A1aEQ0j4SXi"
      },
      "execution_count": null,
      "outputs": []
    },
    {
      "cell_type": "code",
      "source": [
        "res = summarizer(chunks,max_length=120,min_length=30, do_sample=False)"
      ],
      "metadata": {
        "colab": {
          "base_uri": "https://localhost:8080/"
        },
        "id": "GIkEk3mv4UgK",
        "outputId": "662a253f-44dc-4698-b25c-cfc2679ccda4"
      },
      "execution_count": null,
      "outputs": [
        {
          "output_type": "stream",
          "name": "stderr",
          "text": [
            "Your max_length is set to 120, but your input_length is only 99. Since this is a summarization task, where outputs shorter than the input are typically wanted, you might consider decreasing max_length manually, e.g. summarizer('...', max_length=49)\n"
          ]
        }
      ]
    },
    {
      "cell_type": "code",
      "source": [
        "eng_summ =' '.join([summ['summary_text'] for summ in res])\n",
        "print(eng_summ)"
      ],
      "metadata": {
        "colab": {
          "base_uri": "https://localhost:8080/"
        },
        "id": "oibt5vOb4Wf8",
        "outputId": "02f8bf85-0ea6-4e96-e40b-5082e245b135"
      },
      "execution_count": null,
      "outputs": [
        {
          "output_type": "stream",
          "name": "stdout",
          "text": [
            " Dr. M Rashmi lectures on how to help the needy . Charity is a form of voluntary action which can be practiced directly or indirectly to help or provide service to people individually orcollectively out of their feeling of compassion to assist others .  Greenpeace is an international NGO or non-governmental organization with offices in over 55 countries . NGOs are typically charities that are headquartered in one country but work in other countries . They fall into categories like International Development NGOs, Disaster Relief &Humanitarian NGOs, Peace & Human Rights NGOs, Conservation NGOs, Child SponsorshipOrganizations .  Greenpeace replaced her with a new vessel, the second Rainbow Warrior . For 22 years, Greenpeace has campaigned for a green and peaceful future . This was an example of resilience and perseverance which are some of the qualities that form a good leader .\n"
          ]
        }
      ]
    },
    {
      "cell_type": "code",
      "source": [
        "hin_summary = translate_extracted(eng_summ )"
      ],
      "metadata": {
        "id": "Y3Lw34WT4X2Q"
      },
      "execution_count": null,
      "outputs": []
    },
    {
      "cell_type": "code",
      "source": [
        "len(hin_summary)"
      ],
      "metadata": {
        "colab": {
          "base_uri": "https://localhost:8080/"
        },
        "id": "XVGdK2mMJBdf",
        "outputId": "73007f7d-aefd-495f-94df-5c88ed716275"
      },
      "execution_count": null,
      "outputs": [
        {
          "output_type": "execute_result",
          "data": {
            "text/plain": [
              "1"
            ]
          },
          "metadata": {},
          "execution_count": 65
        }
      ]
    },
    {
      "cell_type": "code",
      "source": [
        "!pip install docx2pdf"
      ],
      "metadata": {
        "colab": {
          "base_uri": "https://localhost:8080/"
        },
        "id": "tZ5sVz0h66Gv",
        "outputId": "988ccd02-ff82-4073-ecce-bafeb50b75f1"
      },
      "execution_count": null,
      "outputs": [
        {
          "output_type": "stream",
          "name": "stdout",
          "text": [
            "Requirement already satisfied: docx2pdf in /usr/local/lib/python3.10/dist-packages (0.1.8)\n",
            "Requirement already satisfied: tqdm>=4.41.0 in /usr/local/lib/python3.10/dist-packages (from docx2pdf) (4.66.2)\n",
            "\u001b[33mWARNING: Running pip as the 'root' user can result in broken permissions and conflicting behaviour with the system package manager. It is recommended to use a virtual environment instead: https://pip.pypa.io/warnings/venv\u001b[0m\u001b[33m\n",
            "\u001b[0m"
          ]
        }
      ]
    },
    {
      "cell_type": "code",
      "source": [
        "!pip install python-docx"
      ],
      "metadata": {
        "colab": {
          "base_uri": "https://localhost:8080/"
        },
        "id": "PJGf5wM89eFS",
        "outputId": "aaefcd2a-4079-4e7e-ce45-0f4af80830f2"
      },
      "execution_count": null,
      "outputs": [
        {
          "output_type": "stream",
          "name": "stdout",
          "text": [
            "Requirement already satisfied: python-docx in /usr/local/lib/python3.10/dist-packages (1.1.0)\n",
            "Requirement already satisfied: lxml>=3.1.0 in /usr/local/lib/python3.10/dist-packages (from python-docx) (4.9.4)\n",
            "Requirement already satisfied: typing-extensions in /usr/local/lib/python3.10/dist-packages (from python-docx) (4.9.0)\n",
            "\u001b[33mWARNING: Running pip as the 'root' user can result in broken permissions and conflicting behaviour with the system package manager. It is recommended to use a virtual environment instead: https://pip.pypa.io/warnings/venv\u001b[0m\u001b[33m\n",
            "\u001b[0m"
          ]
        }
      ]
    },
    {
      "cell_type": "code",
      "source": [
        "!pip install python-docx\n",
        "!pip install reportlab"
      ],
      "metadata": {
        "colab": {
          "base_uri": "https://localhost:8080/"
        },
        "id": "lHOehu_Cdit4",
        "outputId": "9e964c8b-21bf-4174-c87c-0f1dbc50369e"
      },
      "execution_count": null,
      "outputs": [
        {
          "output_type": "stream",
          "name": "stdout",
          "text": [
            "Requirement already satisfied: python-docx in /usr/local/lib/python3.10/dist-packages (1.1.0)\n",
            "Requirement already satisfied: lxml>=3.1.0 in /usr/local/lib/python3.10/dist-packages (from python-docx) (4.9.4)\n",
            "Requirement already satisfied: typing-extensions in /usr/local/lib/python3.10/dist-packages (from python-docx) (4.9.0)\n",
            "\u001b[33mWARNING: Running pip as the 'root' user can result in broken permissions and conflicting behaviour with the system package manager. It is recommended to use a virtual environment instead: https://pip.pypa.io/warnings/venv\u001b[0m\u001b[33m\n",
            "\u001b[0mCollecting reportlab\n",
            "  Downloading reportlab-4.1.0-py3-none-any.whl.metadata (1.4 kB)\n",
            "Requirement already satisfied: pillow>=9.0.0 in /usr/local/lib/python3.10/dist-packages (from reportlab) (9.4.0)\n",
            "Requirement already satisfied: chardet in /usr/local/lib/python3.10/dist-packages (from reportlab) (5.2.0)\n",
            "Downloading reportlab-4.1.0-py3-none-any.whl (1.9 MB)\n",
            "\u001b[2K   \u001b[90m━━━━━━━━━━━━━━━━━━━━━━━━━━━━━━━━━━━━━━━━\u001b[0m \u001b[32m1.9/1.9 MB\u001b[0m \u001b[31m10.8 MB/s\u001b[0m eta \u001b[36m0:00:00\u001b[0m\n",
            "\u001b[?25hInstalling collected packages: reportlab\n",
            "Successfully installed reportlab-4.1.0\n",
            "\u001b[33mWARNING: Running pip as the 'root' user can result in broken permissions and conflicting behaviour with the system package manager. It is recommended to use a virtual environment instead: https://pip.pypa.io/warnings/venv\u001b[0m\u001b[33m\n",
            "\u001b[0m"
          ]
        }
      ]
    },
    {
      "cell_type": "code",
      "source": [
        "from docx import Document"
      ],
      "metadata": {
        "id": "ocTXpE8W6_2z"
      },
      "execution_count": null,
      "outputs": []
    },
    {
      "cell_type": "code",
      "source": [
        "doc = Document()\n",
        "for i in range(len(hin_summary)):\n",
        "  doc.add_paragraph(hin_summary[i])\n",
        "  doc.save('/content/translated_summary.docx')"
      ],
      "metadata": {
        "id": "nhBYGcJnE1RN"
      },
      "execution_count": null,
      "outputs": []
    },
    {
      "cell_type": "code",
      "source": [
        "from docx import Document\n",
        "from reportlab.lib.pagesizes import letter\n",
        "from reportlab.platypus import SimpleDocTemplate, Paragraph\n",
        "from reportlab.lib.styles import getSampleStyleSheet\n",
        "from reportlab.pdfbase.ttfonts import TTFont\n",
        "from reportlab.pdfbase import pdfmetrics"
      ],
      "metadata": {
        "id": "qwQNlOD4ZeO2"
      },
      "execution_count": null,
      "outputs": []
    },
    {
      "cell_type": "code",
      "source": [
        "# Read the Word document\n",
        "doc = Document('/content/translated_summary.docx')\n",
        "\n",
        "# Extract text from paragraphs\n",
        "text = []\n",
        "for paragraph in doc.paragraphs:\n",
        "    text.append(paragraph.text)\n",
        "\n",
        "# Create a PDF document\n",
        "pdf_file = 'translated_summary.pdf'\n",
        "doc_pdf = SimpleDocTemplate(pdf_file, pagesize=letter)\n",
        "\n",
        "# Register a Unicode-compatible font that supports Hindi characters\n",
        "font_path = \"/content/TiroDevanagariHindi-Regular.ttf\"  # Provide the path to the font file\n",
        "pdfmetrics.registerFont(TTFont('HindiFont', font_path))\n",
        "\n",
        "# Set styles and font for paragraphs\n",
        "styles = getSampleStyleSheet()\n",
        "styles['Normal'].fontName = 'HindiFont'\n",
        "content = [Paragraph(t, styles['Normal']) for t in text]\n",
        "doc_pdf.build(content)\n",
        "\n",
        "print(f\"PDF file saved as '{pdf_file}'\")"
      ],
      "metadata": {
        "colab": {
          "base_uri": "https://localhost:8080/"
        },
        "id": "rrcnmP-3dywK",
        "outputId": "dd0d8ac4-45a6-456b-c718-4de6241d36f2"
      },
      "execution_count": null,
      "outputs": [
        {
          "output_type": "stream",
          "name": "stdout",
          "text": [
            "PDF file saved as 'translated_summary.pdf'\n"
          ]
        }
      ]
    }
  ]
}